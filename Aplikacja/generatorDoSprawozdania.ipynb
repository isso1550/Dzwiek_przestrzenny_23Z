{
 "cells": [
  {
   "cell_type": "code",
   "execution_count": 7,
   "metadata": {},
   "outputs": [
    {
     "data": {
      "text/plain": [
       "True"
      ]
     },
     "execution_count": 7,
     "metadata": {},
     "output_type": "execute_result"
    }
   ],
   "source": [
    "#Dzwiek po LP\n",
    "import panning\n",
    "import filemanager\n",
    "from numpy import pi\n",
    "\n",
    "filename = \"../Audio/mowa.wav\"\n",
    "\n",
    "fr, obj = filemanager.loadSignal(filename)\n",
    "left, right = filemanager.getStereoChannels(fr, obj)\n",
    "\n",
    "left,right = panning.LinearPan(pi/2 + pi/4, left, right)\n",
    "\n",
    "filemanager.saveStereoSignal(obj, left, right, \"../Dokumenty/Materialy/Audio/mowaLP.wav\")"
   ]
  },
  {
   "cell_type": "code",
   "execution_count": 8,
   "metadata": {},
   "outputs": [
    {
     "data": {
      "text/plain": [
       "True"
      ]
     },
     "execution_count": 8,
     "metadata": {},
     "output_type": "execute_result"
    }
   ],
   "source": [
    "#Dzwiek po CPP\n",
    "import panning\n",
    "import filemanager\n",
    "from numpy import pi\n",
    "\n",
    "filename = \"../Audio/mowa.wav\"\n",
    "\n",
    "fr, obj = filemanager.loadSignal(filename)\n",
    "left, right = filemanager.getStereoChannels(fr, obj)\n",
    "\n",
    "left,right = panning.ConstantPowerPan(pi/2 + pi/4, left, right)\n",
    "\n",
    "filemanager.saveStereoSignal(obj, left, right, \"../Dokumenty/Materialy/Audio/mowaCPP.wav\")"
   ]
  },
  {
   "cell_type": "code",
   "execution_count": 9,
   "metadata": {},
   "outputs": [
    {
     "data": {
      "text/plain": [
       "True"
      ]
     },
     "execution_count": 9,
     "metadata": {},
     "output_type": "execute_result"
    }
   ],
   "source": [
    "#Dzwiek 8d LP\n",
    "import panning\n",
    "import filemanager\n",
    "from numpy import pi\n",
    "\n",
    "filename = \"../Audio/mowa.wav\"\n",
    "\n",
    "fr, obj = filemanager.loadSignal(filename)\n",
    "left, right = filemanager.getStereoChannels(fr, obj)\n",
    "\n",
    "left,right = panning.Pan8d(left, right, obj.getframerate(), 5, 8, panning.LinearPan)\n",
    "\n",
    "filemanager.saveStereoSignal(obj, left, right, \"../Dokumenty/Materialy/Audio/mowa8dLP.wav\")"
   ]
  },
  {
   "cell_type": "code",
   "execution_count": 10,
   "metadata": {},
   "outputs": [
    {
     "data": {
      "text/plain": [
       "True"
      ]
     },
     "execution_count": 10,
     "metadata": {},
     "output_type": "execute_result"
    }
   ],
   "source": [
    "#Dzwiek 8d CPP\n",
    "import panning\n",
    "import filemanager\n",
    "from numpy import pi\n",
    "\n",
    "filename = \"../Audio/mowa.wav\"\n",
    "\n",
    "fr, obj = filemanager.loadSignal(filename)\n",
    "left, right = filemanager.getStereoChannels(fr, obj)\n",
    "\n",
    "left,right = panning.Pan8d(left, right, obj.getframerate(), 5, 8, panning.ConstantPowerPan)\n",
    "\n",
    "filemanager.saveStereoSignal(obj, left, right, \"../Dokumenty/Materialy/Audio/mowa8dCPP.wav\")"
   ]
  },
  {
   "cell_type": "code",
   "execution_count": 11,
   "metadata": {},
   "outputs": [
    {
     "data": {
      "text/plain": [
       "True"
      ]
     },
     "execution_count": 11,
     "metadata": {},
     "output_type": "execute_result"
    }
   ],
   "source": [
    "#Muzyka 8d CPP bez progow\n",
    "import panning\n",
    "import filemanager\n",
    "from numpy import pi\n",
    "\n",
    "filename = \"../Audio/Michael Jackson - Beat It (Official Audio).wav\"\n",
    "\n",
    "fr, obj = filemanager.loadSignal(filename)\n",
    "left, right = filemanager.getStereoChannels(fr, obj)\n",
    "\n",
    "left,right = panning.Pan8d(left, right, obj.getframerate(), 5, 15, panning.ConstantPowerPan, progiMin=False, progiMax=False)\n",
    "\n",
    "filemanager.saveStereoSignal(obj, left, right, \"../Dokumenty/Materialy/Audio/muzykaMJ8dCPP.wav\")"
   ]
  },
  {
   "cell_type": "code",
   "execution_count": 12,
   "metadata": {},
   "outputs": [
    {
     "data": {
      "text/plain": [
       "True"
      ]
     },
     "execution_count": 12,
     "metadata": {},
     "output_type": "execute_result"
    }
   ],
   "source": [
    "#Muzyka 8d CPP z progami min\n",
    "import panning\n",
    "import filemanager\n",
    "from numpy import pi\n",
    "\n",
    "filename = \"../Audio/Michael Jackson - Beat It (Official Audio).wav\"\n",
    "\n",
    "fr, obj = filemanager.loadSignal(filename)\n",
    "left, right = filemanager.getStereoChannels(fr, obj)\n",
    "\n",
    "left,right = panning.Pan8d(left, right, obj.getframerate(), 5, 15, panning.ConstantPowerPan, progiMin=True)\n",
    "\n",
    "filemanager.saveStereoSignal(obj, left, right, \"../Dokumenty/Materialy/Audio/muzykaMJ8dCPPprogiMin.wav\")"
   ]
  },
  {
   "cell_type": "code",
   "execution_count": 13,
   "metadata": {},
   "outputs": [
    {
     "data": {
      "text/plain": [
       "True"
      ]
     },
     "execution_count": 13,
     "metadata": {},
     "output_type": "execute_result"
    }
   ],
   "source": [
    "#Muzyka 8d CPP z progami min i max\n",
    "import panning\n",
    "import filemanager\n",
    "from numpy import pi\n",
    "\n",
    "filename = \"../Audio/Michael Jackson - Beat It (Official Audio).wav\"\n",
    "\n",
    "fr, obj = filemanager.loadSignal(filename)\n",
    "left, right = filemanager.getStereoChannels(fr, obj)\n",
    "\n",
    "left,right = panning.Pan8d(left, right, obj.getframerate(), 5, 15, panning.ConstantPowerPan, progiMin=True, progiMax=True)\n",
    "\n",
    "filemanager.saveStereoSignal(obj, left, right, \"../Dokumenty/Materialy/Audio/muzykaMJ8dCPPprogi.wav\")"
   ]
  },
  {
   "cell_type": "code",
   "execution_count": 14,
   "metadata": {},
   "outputs": [
    {
     "name": "stdout",
     "output_type": "stream",
     "text": [
      "todelay = left\n",
      "ldel = 14.757011085632296,  a = -0.7071067811865475 , ndelay = 15\n",
      "todelay = right\n",
      "ldel = 14.757011085632296,  a = 0.7071067811865476 , ndelay = 15\n",
      "return left, right\n"
     ]
    },
    {
     "data": {
      "text/plain": [
       "True"
      ]
     },
     "execution_count": 14,
     "metadata": {},
     "output_type": "execute_result"
    }
   ],
   "source": [
    "#Dzwiek opozniony - kierunek prawy 1 , lewy 2\n",
    "import delay\n",
    "import filemanager\n",
    "from numpy import pi\n",
    "\n",
    "filename = \"../Audio/mowa.wav\"\n",
    "\n",
    "fr, obj = filemanager.loadSignal(filename)\n",
    "left, right = filemanager.getStereoChannels(fr, obj)\n",
    "\n",
    "left,right = delay.delay(pi/2 + pi/4, left, right, obj.getframerate())\n",
    "filemanager.saveStereoSignal(obj, left, right, \"../Dokumenty/Materialy/Audio/mowaDelay1.wav\")\n",
    "\n",
    "\n",
    "left,right = delay.delay(pi/2 - pi/4, left, right, obj.getframerate())\n",
    "filemanager.saveStereoSignal(obj, left, right, \"../Dokumenty/Materialy/Audio/mowaDelay2.wav\")"
   ]
  },
  {
   "cell_type": "code",
   "execution_count": 15,
   "metadata": {},
   "outputs": [
    {
     "name": "stdout",
     "output_type": "stream",
     "text": [
      "todelay = left\n",
      "ldel = 14.757011085632296,  a = -0.7071067811865475 , ndelay = 15\n"
     ]
    },
    {
     "data": {
      "text/plain": [
       "True"
      ]
     },
     "execution_count": 15,
     "metadata": {},
     "output_type": "execute_result"
    }
   ],
   "source": [
    "#Dzwiek po CPP + delay\n",
    "import panning\n",
    "import filemanager\n",
    "import delay\n",
    "from numpy import pi\n",
    "\n",
    "filename = \"../Audio/mowa.wav\"\n",
    "\n",
    "fr, obj = filemanager.loadSignal(filename)\n",
    "left, right = filemanager.getStereoChannels(fr, obj)\n",
    "\n",
    "left,right = panning.ConstantPowerPan(pi/2 + pi/4, left, right)\n",
    "left,right = delay.delay(pi/2 + pi/4, left, right, obj.getframerate())\n",
    "\n",
    "\n",
    "filemanager.saveStereoSignal(obj, left, right, \"../Dokumenty/Materialy/Audio/mowaCPPDelay.wav\")"
   ]
  },
  {
   "cell_type": "code",
   "execution_count": 16,
   "metadata": {},
   "outputs": [
    {
     "name": "stdout",
     "output_type": "stream",
     "text": [
      "../HRIR/diffuse/elev0/H0e045a.wav\n",
      "Resampling impulse response...\n"
     ]
    },
    {
     "name": "stdout",
     "output_type": "stream",
     "text": [
      "2\n",
      "saving\n"
     ]
    }
   ],
   "source": [
    "#HRIR\n",
    "import hrir\n",
    "filename = \"../Audio/mowa.wav\"\n",
    "\n",
    "hrir.HRIRPan(filename, \"../Dokumenty/Materialy/Audio/mowaHRIR.wav\", 45)"
   ]
  },
  {
   "cell_type": "code",
   "execution_count": 17,
   "metadata": {},
   "outputs": [],
   "source": [
    "#Muzyka daleko - tylko amplituda\n",
    "import distance\n",
    "\n",
    "filename = \"../Audio/muzykaMJ.wav\"\n",
    "outfile = \"../Dokumenty/Materialy/Audio/muzykaMJGain.wav\"\n",
    "\n",
    "\n",
    "distance.DistanceByGain(filename, outfile, 10)"
   ]
  },
  {
   "cell_type": "code",
   "execution_count": 18,
   "metadata": {},
   "outputs": [
    {
     "name": "stdout",
     "output_type": "stream",
     "text": [
      "gain_change = -19.931568569324174\n"
     ]
    }
   ],
   "source": [
    "#Muzyka daleko - amplituda + filtr\n",
    "import distance\n",
    "\n",
    "filename = \"../Audio/muzykaMJ.wav\"\n",
    "outfile = \"../Dokumenty/Materialy/Audio/muzykaMJGainFiltr.wav\"\n",
    "\n",
    "distance.DistanceByGainHighshelf(filename, outfile, 10)"
   ]
  }
 ],
 "metadata": {
  "kernelspec": {
   "display_name": "Python 3",
   "language": "python",
   "name": "python3"
  },
  "language_info": {
   "codemirror_mode": {
    "name": "ipython",
    "version": 3
   },
   "file_extension": ".py",
   "mimetype": "text/x-python",
   "name": "python",
   "nbconvert_exporter": "python",
   "pygments_lexer": "ipython3",
   "version": "3.11.6"
  },
  "orig_nbformat": 4
 },
 "nbformat": 4,
 "nbformat_minor": 2
}
