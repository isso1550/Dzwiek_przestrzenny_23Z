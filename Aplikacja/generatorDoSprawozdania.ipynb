{
 "cells": [
  {
   "cell_type": "code",
   "execution_count": 1,
   "metadata": {},
   "outputs": [
    {
     "data": {
      "text/plain": [
       "True"
      ]
     },
     "execution_count": 1,
     "metadata": {},
     "output_type": "execute_result"
    }
   ],
   "source": [
    "#Dzwiek po LP\n",
    "import panning\n",
    "import filemanager\n",
    "from numpy import pi\n",
    "\n",
    "filename = \"../Audio/speech.wav\"\n",
    "\n",
    "fr, obj = filemanager.loadSignal(filename)\n",
    "left, right = filemanager.getStereoChannels(fr, obj)\n",
    "\n",
    "left,right = panning.LinearPan(pi/2 + pi/4, left, right)\n",
    "\n",
    "filemanager.saveStereoSignal(obj, left, right, \"../Dokumenty/Materialy/mowaLP.wav\")"
   ]
  },
  {
   "cell_type": "code",
   "execution_count": 2,
   "metadata": {},
   "outputs": [
    {
     "data": {
      "text/plain": [
       "True"
      ]
     },
     "execution_count": 2,
     "metadata": {},
     "output_type": "execute_result"
    }
   ],
   "source": [
    "#Dzwiek po CPP\n",
    "import panning\n",
    "import filemanager\n",
    "from numpy import pi\n",
    "\n",
    "filename = \"../Audio/speech.wav\"\n",
    "\n",
    "fr, obj = filemanager.loadSignal(filename)\n",
    "left, right = filemanager.getStereoChannels(fr, obj)\n",
    "\n",
    "left,right = panning.ConstantPowerPan(pi/2 + pi/4, left, right)\n",
    "\n",
    "filemanager.saveStereoSignal(obj, left, right, \"../Dokumenty/Materialy/mowaCPP.wav\")"
   ]
  },
  {
   "cell_type": "code",
   "execution_count": 3,
   "metadata": {},
   "outputs": [
    {
     "data": {
      "text/plain": [
       "True"
      ]
     },
     "execution_count": 3,
     "metadata": {},
     "output_type": "execute_result"
    }
   ],
   "source": [
    "#Dzwiek 8d LP\n",
    "import panning\n",
    "import filemanager\n",
    "from numpy import pi\n",
    "\n",
    "filename = \"../Audio/speech.wav\"\n",
    "\n",
    "fr, obj = filemanager.loadSignal(filename)\n",
    "left, right = filemanager.getStereoChannels(fr, obj)\n",
    "\n",
    "left,right = panning.Pan8d(left, right, obj.getframerate(), 5, 8, panning.LinearPan)\n",
    "\n",
    "filemanager.saveStereoSignal(obj, left, right, \"../Dokumenty/Materialy/mowa8dLP.wav\")"
   ]
  },
  {
   "cell_type": "code",
   "execution_count": 4,
   "metadata": {},
   "outputs": [
    {
     "data": {
      "text/plain": [
       "True"
      ]
     },
     "execution_count": 4,
     "metadata": {},
     "output_type": "execute_result"
    }
   ],
   "source": [
    "#Dzwiek 8d CPP\n",
    "import panning\n",
    "import filemanager\n",
    "from numpy import pi\n",
    "\n",
    "filename = \"../Audio/speech.wav\"\n",
    "\n",
    "fr, obj = filemanager.loadSignal(filename)\n",
    "left, right = filemanager.getStereoChannels(fr, obj)\n",
    "\n",
    "left,right = panning.Pan8d(left, right, obj.getframerate(), 5, 8, panning.ConstantPowerPan)\n",
    "\n",
    "filemanager.saveStereoSignal(obj, left, right, \"../Dokumenty/Materialy/mowa8dCPP.wav\")"
   ]
  },
  {
   "cell_type": "code",
   "execution_count": 5,
   "metadata": {},
   "outputs": [
    {
     "name": "stdout",
     "output_type": "stream",
     "text": [
      "todelay = left\n",
      "ldel = 7.378505542816148,  a = -0.7071067811865475 , ndelay = 7\n",
      "todelay = right\n",
      "ldel = 7.378505542816148,  a = 0.7071067811865476 , ndelay = 7\n",
      "return left, right\n"
     ]
    },
    {
     "data": {
      "text/plain": [
       "True"
      ]
     },
     "execution_count": 5,
     "metadata": {},
     "output_type": "execute_result"
    }
   ],
   "source": [
    "#Dzwiek opozniony - kierunek prawy 1 , lewy 2\n",
    "import delay\n",
    "import filemanager\n",
    "from numpy import pi\n",
    "\n",
    "filename = \"../Audio/speech.wav\"\n",
    "\n",
    "fr, obj = filemanager.loadSignal(filename)\n",
    "left, right = filemanager.getStereoChannels(fr, obj)\n",
    "\n",
    "left,right = delay.delay(pi/2 + pi/4, left, right, obj.getframerate())\n",
    "filemanager.saveStereoSignal(obj, left, right, \"../Dokumenty/Materialy/mowaDelay1.wav\")\n",
    "\n",
    "\n",
    "left,right = delay.delay(pi/2 - pi/4, left, right, obj.getframerate())\n",
    "filemanager.saveStereoSignal(obj, left, right, \"../Dokumenty/Materialy/mowaDelay2.wav\")"
   ]
  },
  {
   "cell_type": "code",
   "execution_count": 1,
   "metadata": {},
   "outputs": [
    {
     "name": "stdout",
     "output_type": "stream",
     "text": [
      "../HRIR/diffuse/elev0/H0e045a.wav\n",
      "Resampling input...\n",
      "2\n",
      "saving\n"
     ]
    }
   ],
   "source": [
    "#HRIR\n",
    "import hrir\n",
    "filename = \"../Audio/speech.wav\"\n",
    "\n",
    "hrir.HRIRPan(filename, \"../Dokumenty/Materialy/mowaHRIR.wav\", 45)"
   ]
  },
  {
   "cell_type": "code",
   "execution_count": 5,
   "metadata": {},
   "outputs": [],
   "source": [
    "#Muzyka daleko - tylko amplituda\n",
    "import distance\n",
    "\n",
    "filename = \"../Audio/Michael Jackson - Beat It (Official Audio).wav\"\n",
    "outfile = \"../Dokumenty/Materialy/muzykaMJGain.wav\"\n",
    "\n",
    "\n",
    "distance.DistanceByGain(filename, outfile, 10)"
   ]
  },
  {
   "cell_type": "code",
   "execution_count": 1,
   "metadata": {},
   "outputs": [
    {
     "name": "stdout",
     "output_type": "stream",
     "text": [
      "gain_change = -19.931568569324174\n"
     ]
    }
   ],
   "source": [
    "#Muzyka daleko - amplituda + filtr\n",
    "import distance\n",
    "\n",
    "filename = \"../Audio/Michael Jackson - Beat It (Official Audio).wav\"\n",
    "outfile = \"../Dokumenty/Materialy/muzykaMJGainFiltr.wav\"\n",
    "\n",
    "distance.DistanceByGainHighshelf(filename, outfile, 10)"
   ]
  }
 ],
 "metadata": {
  "kernelspec": {
   "display_name": "Python 3",
   "language": "python",
   "name": "python3"
  },
  "language_info": {
   "codemirror_mode": {
    "name": "ipython",
    "version": 3
   },
   "file_extension": ".py",
   "mimetype": "text/x-python",
   "name": "python",
   "nbconvert_exporter": "python",
   "pygments_lexer": "ipython3",
   "version": "3.11.6"
  },
  "orig_nbformat": 4
 },
 "nbformat": 4,
 "nbformat_minor": 2
}
