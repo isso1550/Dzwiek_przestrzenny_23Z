{
 "cells": [
  {
   "cell_type": "code",
   "execution_count": 31,
   "metadata": {},
   "outputs": [
    {
     "data": {
      "text/plain": [
       "True"
      ]
     },
     "execution_count": 31,
     "metadata": {},
     "output_type": "execute_result"
    }
   ],
   "source": [
    "#Dzwiek po LP\n",
    "import panning\n",
    "import filemanager\n",
    "from numpy import pi\n",
    "\n",
    "filename = \"../Audio/mowa.wav\"\n",
    "\n",
    "fr, obj = filemanager.loadSignal(filename)\n",
    "left, right = filemanager.getStereoChannels(fr, obj)\n",
    "\n",
    "left,right = panning.LinearPan(pi/2 + pi/4, left, right)\n",
    "\n",
    "filemanager.saveStereoSignal(obj, left, right, \"../Dokumenty/Materialy/Audio/mowaLP.wav\")"
   ]
  },
  {
   "cell_type": "code",
   "execution_count": 32,
   "metadata": {},
   "outputs": [
    {
     "data": {
      "text/plain": [
       "True"
      ]
     },
     "execution_count": 32,
     "metadata": {},
     "output_type": "execute_result"
    }
   ],
   "source": [
    "#Dzwiek po CPP\n",
    "import panning\n",
    "import filemanager\n",
    "from numpy import pi\n",
    "\n",
    "filename = \"../Audio/mowa.wav\"\n",
    "\n",
    "fr, obj = filemanager.loadSignal(filename)\n",
    "left, right = filemanager.getStereoChannels(fr, obj)\n",
    "\n",
    "left,right = panning.ConstantPowerPan(pi/2 + pi/4, left, right)\n",
    "\n",
    "filemanager.saveStereoSignal(obj, left, right, \"../Dokumenty/Materialy/Audio/mowaCPP.wav\")"
   ]
  },
  {
   "cell_type": "code",
   "execution_count": 33,
   "metadata": {},
   "outputs": [
    {
     "data": {
      "text/plain": [
       "True"
      ]
     },
     "execution_count": 33,
     "metadata": {},
     "output_type": "execute_result"
    }
   ],
   "source": [
    "#Dzwiek 8d LP\n",
    "import panning\n",
    "import filemanager\n",
    "from numpy import pi\n",
    "\n",
    "filename = \"../Audio/mowa.wav\"\n",
    "\n",
    "fr, obj = filemanager.loadSignal(filename)\n",
    "left, right = filemanager.getStereoChannels(fr, obj)\n",
    "\n",
    "left,right = panning.Pan8d(left, right, obj.getframerate(), 5, 8, panning.LinearPan)\n",
    "\n",
    "filemanager.saveStereoSignal(obj, left, right, \"../Dokumenty/Materialy/Audio/mowa8dLP.wav\")"
   ]
  },
  {
   "cell_type": "code",
   "execution_count": 34,
   "metadata": {},
   "outputs": [
    {
     "data": {
      "text/plain": [
       "True"
      ]
     },
     "execution_count": 34,
     "metadata": {},
     "output_type": "execute_result"
    }
   ],
   "source": [
    "#Dzwiek 8d CPP\n",
    "import panning\n",
    "import filemanager\n",
    "from numpy import pi\n",
    "\n",
    "filename = \"../Audio/mowa.wav\"\n",
    "\n",
    "fr, obj = filemanager.loadSignal(filename)\n",
    "left, right = filemanager.getStereoChannels(fr, obj)\n",
    "\n",
    "left,right = panning.Pan8d(left, right, obj.getframerate(), 5, 8, panning.ConstantPowerPan)\n",
    "\n",
    "filemanager.saveStereoSignal(obj, left, right, \"../Dokumenty/Materialy/Audio/mowa8dCPP.wav\")"
   ]
  },
  {
   "cell_type": "code",
   "execution_count": 35,
   "metadata": {},
   "outputs": [
    {
     "data": {
      "text/plain": [
       "True"
      ]
     },
     "execution_count": 35,
     "metadata": {},
     "output_type": "execute_result"
    }
   ],
   "source": [
    "#Muzyka 8d CPP bez progow\n",
    "import panning\n",
    "import filemanager\n",
    "from numpy import pi\n",
    "\n",
    "filename = \"../Audio/Michael Jackson - Beat It (Official Audio).wav\"\n",
    "\n",
    "fr, obj = filemanager.loadSignal(filename)\n",
    "left, right = filemanager.getStereoChannels(fr, obj)\n",
    "\n",
    "left,right = panning.Pan8d(left, right, obj.getframerate(), 5, 15, panning.ConstantPowerPan, progiMin=False, progiMax=False)\n",
    "\n",
    "filemanager.saveStereoSignal(obj, left, right, \"../Dokumenty/Materialy/Audio/muzykaMJ8dCPP.wav\")"
   ]
  },
  {
   "cell_type": "code",
   "execution_count": 36,
   "metadata": {},
   "outputs": [
    {
     "data": {
      "text/plain": [
       "True"
      ]
     },
     "execution_count": 36,
     "metadata": {},
     "output_type": "execute_result"
    }
   ],
   "source": [
    "#Muzyka 8d CPP z progami min\n",
    "import panning\n",
    "import filemanager\n",
    "from numpy import pi\n",
    "\n",
    "filename = \"../Audio/Michael Jackson - Beat It (Official Audio).wav\"\n",
    "\n",
    "fr, obj = filemanager.loadSignal(filename)\n",
    "left, right = filemanager.getStereoChannels(fr, obj)\n",
    "\n",
    "left,right = panning.Pan8d(left, right, obj.getframerate(), 5, 15, panning.ConstantPowerPan, progiMin=True)\n",
    "\n",
    "filemanager.saveStereoSignal(obj, left, right, \"../Dokumenty/Materialy/Audio/muzykaMJ8dCPPprogiMin.wav\")"
   ]
  },
  {
   "cell_type": "code",
   "execution_count": 37,
   "metadata": {},
   "outputs": [
    {
     "data": {
      "text/plain": [
       "True"
      ]
     },
     "execution_count": 37,
     "metadata": {},
     "output_type": "execute_result"
    }
   ],
   "source": [
    "#Muzyka 8d CPP z progami min i max\n",
    "import panning\n",
    "import filemanager\n",
    "from numpy import pi\n",
    "\n",
    "filename = \"../Audio/Michael Jackson - Beat It (Official Audio).wav\"\n",
    "\n",
    "fr, obj = filemanager.loadSignal(filename)\n",
    "left, right = filemanager.getStereoChannels(fr, obj)\n",
    "\n",
    "left,right = panning.Pan8d(left, right, obj.getframerate(), 5, 15, panning.ConstantPowerPan, progiMin=True, progiMax=True)\n",
    "\n",
    "filemanager.saveStereoSignal(obj, left, right, \"../Dokumenty/Materialy/Audio/muzykaMJ8dCPPprogi.wav\")"
   ]
  },
  {
   "cell_type": "code",
   "execution_count": 45,
   "metadata": {},
   "outputs": [
    {
     "name": "stdout",
     "output_type": "stream",
     "text": [
      "135.0\n",
      "todelay = left\n",
      "285000 285000\n",
      "225.0\n",
      "15\n",
      "285000 285000\n",
      "45.0\n",
      "todelay = right\n",
      "285000 285000\n",
      "135.0\n",
      "15\n",
      "285000 285000\n"
     ]
    },
    {
     "data": {
      "text/plain": [
       "True"
      ]
     },
     "execution_count": 45,
     "metadata": {},
     "output_type": "execute_result"
    }
   ],
   "source": [
    "#Dzwiek opozniony - kierunek prawy 1 , lewy 2\n",
    "import delay\n",
    "import filemanager\n",
    "from numpy import pi\n",
    "\n",
    "filename = \"../Audio/mowa.wav\"\n",
    "\n",
    "fr, obj = filemanager.loadSignal(filename)\n",
    "left, right = filemanager.getStereoChannels(fr, obj)\n",
    "\n",
    "left,right = delay.delay(pi/2 + pi/4, left, right, obj.getframerate())\n",
    "filemanager.saveStereoSignal(obj, left, right, \"../Dokumenty/Materialy/Audio/mowaDelay1.wav\")\n",
    "\n",
    "left, right = filemanager.getStereoChannels(fr, obj)\n",
    "left,right = delay.delay(pi/2 - pi/4, left, right, obj.getframerate())\n",
    "filemanager.saveStereoSignal(obj, left, right, \"../Dokumenty/Materialy/Audio/mowaDelay2.wav\")"
   ]
  },
  {
   "cell_type": "code",
   "execution_count": 39,
   "metadata": {},
   "outputs": [
    {
     "name": "stdout",
     "output_type": "stream",
     "text": [
      "135.0\n",
      "todelay = left\n",
      "285000 285000\n",
      "225.0\n",
      "15\n",
      "285000 285000\n"
     ]
    },
    {
     "data": {
      "text/plain": [
       "True"
      ]
     },
     "execution_count": 39,
     "metadata": {},
     "output_type": "execute_result"
    }
   ],
   "source": [
    "#Dzwiek po CPP + delay\n",
    "import panning\n",
    "import filemanager\n",
    "import delay\n",
    "from numpy import pi\n",
    "\n",
    "filename = \"../Audio/mowa.wav\"\n",
    "\n",
    "fr, obj = filemanager.loadSignal(filename)\n",
    "left, right = filemanager.getStereoChannels(fr, obj)\n",
    "\n",
    "left,right = panning.ConstantPowerPan(pi/2 + pi/4, left, right, progiMax=False, progiMin=False)\n",
    "#left,right = panning.LinearPan(pi/2 + pi/4, left, right)\n",
    "left,right = delay.delay(pi/2 + pi/4, left, right, obj.getframerate())\n",
    "\n",
    "\n",
    "filemanager.saveStereoSignal(obj, left, right, \"../Dokumenty/Materialy/Audio/mowaCPPDelay.wav\")"
   ]
  },
  {
   "cell_type": "code",
   "execution_count": 40,
   "metadata": {},
   "outputs": [
    {
     "name": "stdout",
     "output_type": "stream",
     "text": [
      "../HRIR/diffuse/elev0/H0e045a.wav\n",
      "Resampling impulse response...\n",
      "2\n",
      "saving\n"
     ]
    }
   ],
   "source": [
    "#HRIR\n",
    "import hrir\n",
    "filename = \"../Audio/mowa.wav\"\n",
    "\n",
    "hrir.HRIRPan(filename, \"../Dokumenty/Materialy/Audio/mowaHRIR.wav\", 45)"
   ]
  },
  {
   "cell_type": "code",
   "execution_count": 41,
   "metadata": {},
   "outputs": [
    {
     "name": "stdout",
     "output_type": "stream",
     "text": [
      "119.99999999999999\n",
      "todelay = left\n",
      "285000 285000\n",
      "210.0\n",
      "10\n",
      "285000 285000\n",
      "../HRIR/diffuse/elev0/H0e030a.wav\n",
      "Resampling impulse response...\n",
      "2\n",
      "saving\n"
     ]
    }
   ],
   "source": [
    "#Dzwiek po CPP + delay\n",
    "import panning\n",
    "import filemanager\n",
    "import delay\n",
    "from numpy import pi\n",
    "\n",
    "filename = \"../Audio/mowa.wav\"\n",
    "\n",
    "fr, obj = filemanager.loadSignal(filename)\n",
    "left, right = filemanager.getStereoChannels(fr, obj)\n",
    "\n",
    "left,right = panning.ConstantPowerPan(pi/2 + pi/6, left, right, progiMax=False, progiMin=False)\n",
    "left,right = delay.delay(pi/2 + pi/6, left, right, obj.getframerate())\n",
    "\n",
    "\n",
    "filemanager.saveStereoSignal(obj, left, right, \"../Dokumenty/Materialy/Audio/mowaCPPDelay30.wav\")\n",
    "\n",
    "#HRIR\n",
    "import hrir\n",
    "filename = \"../Audio/mowa.wav\"\n",
    "\n",
    "hrir.HRIRPan(filename, \"../Dokumenty/Materialy/Audio/mowaHRIR30.wav\", 30)"
   ]
  },
  {
   "cell_type": "code",
   "execution_count": 42,
   "metadata": {},
   "outputs": [],
   "source": [
    "#Muzyka daleko - tylko amplituda\n",
    "import distance\n",
    "\n",
    "filename = \"../Audio/muzykaMJ.wav\"\n",
    "outfile = \"../Dokumenty/Materialy/Audio/muzykaMJGain.wav\"\n",
    "\n",
    "\n",
    "distance.DistanceByGain(filename, outfile, 10)"
   ]
  },
  {
   "cell_type": "code",
   "execution_count": 43,
   "metadata": {},
   "outputs": [
    {
     "name": "stdout",
     "output_type": "stream",
     "text": [
      "gain_change = -19.931568569324174\n"
     ]
    }
   ],
   "source": [
    "#Muzyka daleko - amplituda + filtr\n",
    "import distance\n",
    "\n",
    "filename = \"../Audio/muzykaMJ.wav\"\n",
    "outfile = \"../Dokumenty/Materialy/Audio/muzykaMJGainFiltr.wav\"\n",
    "\n",
    "distance.DistanceByGainHighshelf(filename, outfile, 10)"
   ]
  },
  {
   "cell_type": "code",
   "execution_count": 44,
   "metadata": {},
   "outputs": [],
   "source": [
    "#Muzyka daleko - amplituda + filtr + reverb\n",
    "import distance\n",
    "\n",
    "filename = \"../Audio/muzykaMJ.wav\"\n",
    "outfile = \"../Dokumenty/Materialy/Audio/muzykaMJGainFiltrReverb.wav\"\n",
    "\n",
    "distance.DistanceWithReverb(filename, outfile, 10)"
   ]
  }
 ],
 "metadata": {
  "kernelspec": {
   "display_name": "Python 3",
   "language": "python",
   "name": "python3"
  },
  "language_info": {
   "codemirror_mode": {
    "name": "ipython",
    "version": 3
   },
   "file_extension": ".py",
   "mimetype": "text/x-python",
   "name": "python",
   "nbconvert_exporter": "python",
   "pygments_lexer": "ipython3",
   "version": "3.11.6"
  },
  "orig_nbformat": 4
 },
 "nbformat": 4,
 "nbformat_minor": 2
}
