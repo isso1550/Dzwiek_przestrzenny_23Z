{
 "cells": [
  {
   "cell_type": "code",
   "execution_count": 1,
   "metadata": {},
   "outputs": [],
   "source": [
    "infile = \"../Audio/NewJeans-_뉴진스_-ETA-Official-MV-_Performance-ver._.wav\"\n",
    "infile = \"../Audio/Michael Jackson - Beat It (Official Audio).wav\"\n",
    "infile = \"../Audio/muzykaMJ.wav\"\n",
    "outfile = \"../Audio/pedalboardout.wav\""
   ]
  },
  {
   "cell_type": "code",
   "execution_count": 2,
   "metadata": {},
   "outputs": [],
   "source": [
    "from pedalboard import Pedalboard, Chorus, Reverb, Gain\n",
    "from pedalboard.io import AudioFile\n",
    "import numpy as np\n",
    "\n",
    "# Make a Pedalboard object, containing multiple audio plugins:\n",
    "room_size = 1.0\n",
    "damping = 1.0\n",
    "wet_level = 0.83\n",
    "dry_level = 1.0\n",
    "width = 1.0\n",
    "freeze_mode = 0.0\n",
    "\n",
    "room_size = 0.2\n",
    "wet_level = 0.5\n",
    "#Reverb(room_size, damping, wet_level, dry_level, width, freeze_mode)\n",
    "board = Pedalboard([ Gain(gain_db=-24.0)])\n",
    "\n",
    "# Open an audio file for reading, just like a regular file:\n",
    "with AudioFile(infile) as f:\n",
    "  \n",
    "  # Open an audio file to write to:\n",
    "  with AudioFile(outfile, 'w', f.samplerate, f.num_channels) as o:\n",
    "  \n",
    "    # Read one second of audio at a time, until the file is empty:\n",
    "    i = 0\n",
    "    nchunks = 259\n",
    "    gain = np.arange(0, -24+(-24/nchunks), -24/nchunks)\n",
    "    gain = np.arange(0, -24, -24/30)\n",
    "    gain2 = np.flip(gain)\n",
    "    gain = np.concatenate((gain, gain2))\n",
    "    gain = np.tile(gain,int(np.ceil(nchunks/30)))\n",
    "\n",
    "    room = np.arange(0, 1.0+1/nchunks, 1/nchunks)\n",
    "    room = np.arange(0, 1.0, 1/30)\n",
    "    room2 = np.flip(room)\n",
    "    room = np.concatenate((room, room2))\n",
    "    room = np.tile(room,int(np.ceil(nchunks/30)))\n",
    "\n",
    "\n",
    "\n",
    "\n",
    "    wet = np.arange(0, 1.0+1/nchunks, 1/nchunks)\n",
    "    wet = np.arange(0, 1.0, 1/30)\n",
    "    wet2 = np.flip(wet)\n",
    "    wet = np.concatenate((wet, wet2))\n",
    "    wet = np.tile(wet,int(np.ceil(nchunks/30)))\n",
    "\n",
    "    while f.tell() < f.frames:\n",
    "      i = i+1\n",
    "      chunk = f.read(f.samplerate)\n",
    "      \n",
    "      # Run the audio through our pedalboard:\n",
    "      #board[0].room_size = room[i]\n",
    "      #board[0].wet_level = wet[i]\n",
    "      board[0].gain_db = gain[i]\n",
    "      effected = board(chunk, f.samplerate, reset=False)\n",
    "      \n",
    "      # Write the output to our output file:\n",
    "      o.write(effected)"
   ]
  },
  {
   "cell_type": "code",
   "execution_count": 3,
   "metadata": {},
   "outputs": [],
   "source": [
    "from pedalboard import Pedalboard, Chorus, Reverb, Gain, LowpassFilter, HighShelfFilter, LowShelfFilter, HighpassFilter\n",
    "from pedalboard.io import AudioFile\n",
    "import numpy as np\n",
    "\n",
    "# Make a Pedalboard object, containing multiple audio plugins:\n",
    "room_size = 0.25\n",
    "damping = 0.25\n",
    "wet_level = 0.9\n",
    "dry_level = 1.0\n",
    "width = 1.0\n",
    "freeze_mode = 0.0\n",
    "\n",
    "# Reverb(room_size, damping, wet_level, dry_level, width, freeze_mode), \n",
    "board = Pedalboard([Reverb(room_size, damping, wet_level, dry_level, width, freeze_mode), \n",
    "                    HighShelfFilter(cutoff_frequency_hz=200, gain_db=-10), Gain(gain_db=-10.0)])\n",
    "#board = Pedalboard([HighShelfFilter(cutoff_frequency_hz=200, gain_db=-10), Gain(gain_db=-10.0)])\n",
    "#board = Pedalboard([Gain(gain_db=-10.0)])\n",
    "\n",
    "# Open an audio file for reading, just like a regular file:\n",
    "with AudioFile(infile) as f:\n",
    "  \n",
    "  # Open an audio file to write to:\n",
    "  with AudioFile(outfile, 'w', f.samplerate, f.num_channels) as o:\n",
    "    while f.tell() < f.frames:\n",
    "      chunk = f.read(f.samplerate)\n",
    "      effected = board(chunk, f.samplerate, reset=False)\n",
    "      \n",
    "      # Write the output to our output file:\n",
    "      o.write(effected)"
   ]
  },
  {
   "cell_type": "code",
   "execution_count": 6,
   "metadata": {},
   "outputs": [
    {
     "name": "stdout",
     "output_type": "stream",
     "text": [
      "44100 44100\n",
      "Saving...\n"
     ]
    }
   ],
   "source": [
    "from numpy import convolve, vstack\n",
    "import librosa as lr\n",
    "import soundfile as sf\n",
    "\n",
    "input = \"../Audio/speech.wav\"\n",
    "input = \"../Audio/NewJeans-_뉴진스_-ETA-Official-MV-_Performance-ver._.wav\"\n",
    "#input = \"..\\Audio\\Michael Jackson - Beat It (Official Audio).wav\"\n",
    "output = \"../Audio/mainoutput.wav\"\n",
    "\n",
    "degrees = 45\n",
    "\n",
    "library_path = \"../HRIR/diffuse/elev0/\"\n",
    "fr, frsr = sf.read(input)\n",
    "if degrees > 99:\n",
    "    input = library_path + \"H0e\" + str(degrees) + \"a.wav\"\n",
    "else:\n",
    "    input = library_path + \"H0e0\" + str(degrees) + \"a.wav\"\n",
    "irfr, irsr = sf.read(input)\n",
    "print(frsr, irsr)\n",
    "if (frsr < irsr):\n",
    "    fr = lr.resample(fr, orig_sr=frsr, target_sr=irsr)\n",
    "else:\n",
    "    irfr = lr.resample(irfr, orig_sr=irsr, target_sr=frsr)\n",
    "    irsr = frsr\n",
    "    #irfr2 = irfr\n",
    "    #irfr2[:,0] = lr.resample(irfr[:,0], orig_sr=irsr, target_sr = frsr)\n",
    "    #irfr2[:,1] = lr.resample(irfr[:,1], orig_sr=irsr, target_sr = frsr)\n",
    "if (fr.shape[1] >= 2):\n",
    "    s_R = convolve(fr[:,0],irfr[:,0])\n",
    "    s_L = convolve(fr[:,1],irfr[:,1])\n",
    "else:\n",
    "    s_R = convolve(fr,irfr[:,0])\n",
    "    s_L = convolve(fr,irfr[:,1])\n",
    "mix = vstack([s_R, s_L])\n",
    "print(\"Saving...\")\n",
    "sf.write(output, mix.transpose(), irsr)"
   ]
  },
  {
   "cell_type": "code",
   "execution_count": 8,
   "metadata": {},
   "outputs": [
    {
     "data": {
      "text/plain": [
       "'../HRIR/diffuse/elev0/H0e045a.wav'"
      ]
     },
     "execution_count": 8,
     "metadata": {},
     "output_type": "execute_result"
    }
   ],
   "source": [
    "input"
   ]
  },
  {
   "cell_type": "code",
   "execution_count": null,
   "metadata": {},
   "outputs": [],
   "source": []
  }
 ],
 "metadata": {
  "kernelspec": {
   "display_name": "Python 3",
   "language": "python",
   "name": "python3"
  },
  "language_info": {
   "codemirror_mode": {
    "name": "ipython",
    "version": 3
   },
   "file_extension": ".py",
   "mimetype": "text/x-python",
   "name": "python",
   "nbconvert_exporter": "python",
   "pygments_lexer": "ipython3",
   "version": "3.11.6"
  },
  "orig_nbformat": 4
 },
 "nbformat": 4,
 "nbformat_minor": 2
}
